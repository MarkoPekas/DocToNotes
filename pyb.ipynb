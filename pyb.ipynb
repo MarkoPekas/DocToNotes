{
 "metadata": {
  "language_info": {
   "codemirror_mode": {
    "name": "ipython",
    "version": 3
   },
   "file_extension": ".py",
   "mimetype": "text/x-python",
   "name": "python",
   "nbconvert_exporter": "python",
   "pygments_lexer": "ipython3",
   "version": "3.8.0"
  },
  "orig_nbformat": 2,
  "kernelspec": {
   "name": "python380jvsc74a57bd061e1c3140ce777a913a5acfb2b6f826ead6b26fe577378fac4ead82215fc4b10",
   "display_name": "Python 3.8.0 64-bit"
  },
  "metadata": {
   "interpreter": {
    "hash": "61e1c3140ce777a913a5acfb2b6f826ead6b26fe577378fac4ead82215fc4b10"
   }
  }
 },
 "nbformat": 4,
 "nbformat_minor": 2,
 "cells": [
  {
   "cell_type": "code",
   "execution_count": 1,
   "metadata": {},
   "outputs": [],
   "source": [
    "from PIL import Image\n",
    "import numpy\n",
    "import sys\n",
    "from docx import Document\n",
    "from docx.shared import Inches\n",
    "from docx.shared import Pt\n",
    "import random\n",
    "import os\n",
    "import comtypes.client\n",
    "from docx2pdf import convert\n",
    "from pdf2image import convert_from_path\n",
    "from docx.enum.style import WD_STYLE_TYPE"
   ]
  },
  {
   "cell_type": "code",
   "execution_count": 3,
   "metadata": {},
   "outputs": [],
   "source": [
    "def find_coeffs(pa, pb):\n",
    "    matrix = []\n",
    "    for p1, p2 in zip(pa, pb):\n",
    "        matrix.append([p1[0], p1[1], 1, 0, 0, 0, -p2[0]*p1[0], -p2[0]*p1[1]])\n",
    "        matrix.append([0, 0, 0, p1[0], p1[1], 1, -p2[1]*p1[0], -p2[1]*p1[1]])\n",
    "\n",
    "    A = numpy.matrix(matrix, dtype=numpy.float)\n",
    "    B = numpy.array(pb).reshape(8)\n",
    "\n",
    "    res = numpy.dot(numpy.linalg.inv(A.T * A) * A.T, B)\n",
    "    return numpy.array(res).reshape(8)\n",
    "\n",
    "def letterToMadness(letter):\n",
    "    if(letter == 'a'):\n",
    "        return random.choice(['a', '╞','╟','┼'])\n",
    "    if(letter == 'b'):\n",
    "        return random.choice(['b','⅝','╚'])\n",
    "    if(letter == 'c' or letter == 'č' or letter == 'ć'):\n",
    "        return random.choice(['c','╩','╔'])\n",
    "    if(letter == 'd' or letter == 'đ'):\n",
    "        return random.choice(['d','╦','╠'])\n",
    "    if(letter == 'e'):\n",
    "        return random.choice(['e','†','≤','═','╧','╬'])\n",
    "    if(letter == 'f'):\n",
    "        return random.choice(['f','╨','╤'])\n",
    "    if(letter == 'g'):\n",
    "        return random.choice(['g','℁','⋲','╥'])\n",
    "    if(letter == 'h'):\n",
    "        return random.choice(['h','╒','╘'])\n",
    "    if(letter == 'i'):\n",
    "        return random.choice(['i','╪','╫','╓'])\n",
    "    if(letter == 'j'):\n",
    "        return random.choice(['j','┘'])\n",
    "    if(letter == 'k'):\n",
    "        return random.choice(['k','┌'])\n",
    "    if(letter == 'l'):\n",
    "        return random.choice(['l','℅','▄','█'])\n",
    "    if(letter == 'm'):\n",
    "        return random.choice(['m','←','▌','▐'])\n",
    "    if(letter == 'n'):\n",
    "        return random.choice(['n','▀','☻'])\n",
    "    if(letter == 'o'):\n",
    "        return random.choice(['o','∂','♥','♦','₧','‡'])\n",
    "    if(letter == 'p'):\n",
    "        return random.choice(['p','‰'])\n",
    "    if(letter == 'q'):\n",
    "        return random.choice(['q'])\n",
    "    if(letter == 'r'):\n",
    "        return random.choice(['r','◘','○','╡'])\n",
    "    if(letter == 's' or letter == 'š'):\n",
    "        return random.choice(['s','◙','♂','♀','╢'])\n",
    "    if(letter == 't'):\n",
    "        return random.choice(['t','♪','♫','☼','≡'])\n",
    "    if(letter == 'u'):\n",
    "        return random.choice(['u','►','◄'])\n",
    "    if(letter == 'v'):\n",
    "        return random.choice(['v','↕','◄'])\n",
    "    if(letter == 'w'):\n",
    "        return random.choice(['w','‹','‼'])\n",
    "    if(letter == 'x'):\n",
    "        return random.choice(['x','›'])\n",
    "    if(letter == 'y'):\n",
    "        return random.choice(['y','Ⅎ','≠'])\n",
    "    if(letter == 'z' or letter == 'ž'):\n",
    "        return random.choice(['z','→'])\n",
    "    if(letter == '-'):\n",
    "        return random.choice(['‐','–','—'])\n",
    "    if(letter == 'Č' or letter == 'Ć'):\n",
    "        return 'C'\n",
    "    if(letter == 'Š'):\n",
    "        return 'S'\n",
    "    if(letter == 'Đ'):\n",
    "        return 'D'\n",
    "    if(letter == 'Ž'):\n",
    "        return 'Z'\n",
    "    return letter\n",
    "    "
   ]
  },
  {
   "source": [
    "document = Document('example.docx')\n",
    "\n",
    "\n",
    "# Remove Header and Footer\n",
    "for section in document.sections:\n",
    "    header = section.header\n",
    "    footer = section.footer\n",
    "    header.is_linked_to_previous = True\n",
    "    footer.is_linked_to_previous = True\n",
    "\n",
    "\n",
    "\n",
    "for elem in document.element.getiterator():\n",
    "    if(\"CT_Text\" in str(type(elem)) and elem.text):\n",
    "        newt = \"\"\n",
    "        for ch in elem.text:\n",
    "            newt += letterToMadness(ch)\n",
    "        elem.text = newt\n",
    "        \n",
    "\n",
    "\n",
    "for stylex in document.styles:\n",
    "    try:\n",
    "        stylex.font.name = 'PremiumUltra17'\n",
    "    except:\n",
    "        pass\n",
    "\n",
    "for para in document.paragraphs:\n",
    "    print(para.style.name)\n",
    "    para.style.font.name = 'PremiumUltra17'\n",
    "    for run in para.runs:\n",
    "        run.font.name = 'PremiumUltra17'\n",
    "\n",
    "document.save('scriptalized.docx')\n"
   ],
   "cell_type": "code",
   "metadata": {
    "tags": []
   },
   "execution_count": 14,
   "outputs": [
    {
     "output_type": "stream",
     "name": "stdout",
     "text": [
      "Title\nNormal\nNormal\nHeading 1\nNormal\nNormal\nNormal\nNormal\nHeading 1\nHeading 1\nNormal\nNormal\nNormal\n"
     ]
    }
   ]
  },
  {
   "cell_type": "code",
   "execution_count": 7,
   "metadata": {},
   "outputs": [
    {
     "output_type": "stream",
     "name": "stderr",
     "text": [
      "\n",
      "  0%|          | 0/1 [00:00<?, ?it/s]\u001b[A"
     ]
    },
    {
     "output_type": "error",
     "ename": "com_error",
     "evalue": "(-2147352567, 'Exception occurred.', (0, 'Microsoft Word', 'Command failed', 'wdmain11.chm', 36966, -2146824090), None)",
     "traceback": [
      "\u001b[1;31m---------------------------------------------------------------------------\u001b[0m",
      "\u001b[1;31mcom_error\u001b[0m                                 Traceback (most recent call last)",
      "\u001b[1;32m<ipython-input-7-6f2cc35a6f6d>\u001b[0m in \u001b[0;36m<module>\u001b[1;34m\u001b[0m\n\u001b[1;32m----> 1\u001b[1;33m \u001b[0mconvert\u001b[0m\u001b[1;33m(\u001b[0m\u001b[1;34m'scriptalized.docx'\u001b[0m\u001b[1;33m)\u001b[0m\u001b[1;33m\u001b[0m\u001b[1;33m\u001b[0m\u001b[0m\n\u001b[0m",
      "\u001b[1;32m~\\AppData\\Local\\Programs\\Python\\Python38\\lib\\site-packages\\docx2pdf\\__init__.py\u001b[0m in \u001b[0;36mconvert\u001b[1;34m(input_path, output_path, keep_active)\u001b[0m\n\u001b[0;32m    104\u001b[0m         \u001b[1;32mreturn\u001b[0m \u001b[0mmacos\u001b[0m\u001b[1;33m(\u001b[0m\u001b[0mpaths\u001b[0m\u001b[1;33m,\u001b[0m \u001b[0mkeep_active\u001b[0m\u001b[1;33m)\u001b[0m\u001b[1;33m\u001b[0m\u001b[1;33m\u001b[0m\u001b[0m\n\u001b[0;32m    105\u001b[0m     \u001b[1;32melif\u001b[0m \u001b[0msys\u001b[0m\u001b[1;33m.\u001b[0m\u001b[0mplatform\u001b[0m \u001b[1;33m==\u001b[0m \u001b[1;34m\"win32\"\u001b[0m\u001b[1;33m:\u001b[0m\u001b[1;33m\u001b[0m\u001b[1;33m\u001b[0m\u001b[0m\n\u001b[1;32m--> 106\u001b[1;33m         \u001b[1;32mreturn\u001b[0m \u001b[0mwindows\u001b[0m\u001b[1;33m(\u001b[0m\u001b[0mpaths\u001b[0m\u001b[1;33m,\u001b[0m \u001b[0mkeep_active\u001b[0m\u001b[1;33m)\u001b[0m\u001b[1;33m\u001b[0m\u001b[1;33m\u001b[0m\u001b[0m\n\u001b[0m\u001b[0;32m    107\u001b[0m     \u001b[1;32melse\u001b[0m\u001b[1;33m:\u001b[0m\u001b[1;33m\u001b[0m\u001b[1;33m\u001b[0m\u001b[0m\n\u001b[0;32m    108\u001b[0m         raise NotImplementedError(\n",
      "\u001b[1;32m~\\AppData\\Local\\Programs\\Python\\Python38\\lib\\site-packages\\docx2pdf\\__init__.py\u001b[0m in \u001b[0;36mwindows\u001b[1;34m(paths, keep_active)\u001b[0m\n\u001b[0;32m     31\u001b[0m         \u001b[0mpdf_filepath\u001b[0m \u001b[1;33m=\u001b[0m \u001b[0mPath\u001b[0m\u001b[1;33m(\u001b[0m\u001b[0mpaths\u001b[0m\u001b[1;33m[\u001b[0m\u001b[1;34m\"output\"\u001b[0m\u001b[1;33m]\u001b[0m\u001b[1;33m)\u001b[0m\u001b[1;33m.\u001b[0m\u001b[0mresolve\u001b[0m\u001b[1;33m(\u001b[0m\u001b[1;33m)\u001b[0m\u001b[1;33m\u001b[0m\u001b[1;33m\u001b[0m\u001b[0m\n\u001b[0;32m     32\u001b[0m         \u001b[0mdoc\u001b[0m \u001b[1;33m=\u001b[0m \u001b[0mword\u001b[0m\u001b[1;33m.\u001b[0m\u001b[0mDocuments\u001b[0m\u001b[1;33m.\u001b[0m\u001b[0mOpen\u001b[0m\u001b[1;33m(\u001b[0m\u001b[0mstr\u001b[0m\u001b[1;33m(\u001b[0m\u001b[0mdocx_filepath\u001b[0m\u001b[1;33m)\u001b[0m\u001b[1;33m)\u001b[0m\u001b[1;33m\u001b[0m\u001b[1;33m\u001b[0m\u001b[0m\n\u001b[1;32m---> 33\u001b[1;33m         \u001b[0mdoc\u001b[0m\u001b[1;33m.\u001b[0m\u001b[0mSaveAs\u001b[0m\u001b[1;33m(\u001b[0m\u001b[0mstr\u001b[0m\u001b[1;33m(\u001b[0m\u001b[0mpdf_filepath\u001b[0m\u001b[1;33m)\u001b[0m\u001b[1;33m,\u001b[0m \u001b[0mFileFormat\u001b[0m\u001b[1;33m=\u001b[0m\u001b[0mwdFormatPDF\u001b[0m\u001b[1;33m)\u001b[0m\u001b[1;33m\u001b[0m\u001b[1;33m\u001b[0m\u001b[0m\n\u001b[0m\u001b[0;32m     34\u001b[0m         \u001b[0mdoc\u001b[0m\u001b[1;33m.\u001b[0m\u001b[0mClose\u001b[0m\u001b[1;33m(\u001b[0m\u001b[1;33m)\u001b[0m\u001b[1;33m\u001b[0m\u001b[1;33m\u001b[0m\u001b[0m\n\u001b[0;32m     35\u001b[0m         \u001b[0mpbar\u001b[0m\u001b[1;33m.\u001b[0m\u001b[0mupdate\u001b[0m\u001b[1;33m(\u001b[0m\u001b[1;36m1\u001b[0m\u001b[1;33m)\u001b[0m\u001b[1;33m\u001b[0m\u001b[1;33m\u001b[0m\u001b[0m\n",
      "\u001b[1;32m~\\AppData\\Local\\Programs\\Python\\Python38\\lib\\site-packages\\win32com\\client\\dynamic.py\u001b[0m in \u001b[0;36mSaveAs\u001b[1;34m(self, FileName, FileFormat, LockComments, Password, AddToRecentFiles, WritePassword, ReadOnlyRecommended, EmbedTrueTypeFonts, SaveNativePictureFormat, SaveFormsData, SaveAsAOCELetter, Encoding, InsertLineBreaks, AllowSubstitutions, LineEnding, AddBiDiMarks)\u001b[0m\n",
      "\u001b[1;31mcom_error\u001b[0m: (-2147352567, 'Exception occurred.', (0, 'Microsoft Word', 'Command failed', 'wdmain11.chm', 36966, -2146824090), None)"
     ]
    }
   ],
   "source": [
    "convert('scriptalized.docx')"
   ]
  },
  {
   "cell_type": "code",
   "execution_count": 4,
   "metadata": {},
   "outputs": [
    {
     "output_type": "stream",
     "name": "stderr",
     "text": [
      "  0%|          | 0/1 [00:00<?, ?it/s]"
     ]
    },
    {
     "output_type": "error",
     "ename": "com_error",
     "evalue": "(-2147352567, 'Exception occurred.', (0, 'Microsoft Word', 'Command failed', 'wdmain11.chm', 36966, -2146824090), None)",
     "traceback": [
      "\u001b[1;31m---------------------------------------------------------------------------\u001b[0m",
      "\u001b[1;31mcom_error\u001b[0m                                 Traceback (most recent call last)",
      "\u001b[1;32m<ipython-input-4-c4a4f77403a9>\u001b[0m in \u001b[0;36m<module>\u001b[1;34m\u001b[0m\n\u001b[1;32m----> 1\u001b[1;33m \u001b[0mconvert\u001b[0m\u001b[1;33m(\u001b[0m\u001b[1;34m\"scriptalized.docx\"\u001b[0m\u001b[1;33m)\u001b[0m\u001b[1;33m\u001b[0m\u001b[1;33m\u001b[0m\u001b[0m\n\u001b[0m\u001b[0;32m      2\u001b[0m \u001b[1;33m\u001b[0m\u001b[0m\n\u001b[0;32m      3\u001b[0m \u001b[0mpages\u001b[0m \u001b[1;33m=\u001b[0m \u001b[0mconvert_from_path\u001b[0m\u001b[1;33m(\u001b[0m\u001b[1;34m'scriptalized.pdf'\u001b[0m\u001b[1;33m,\u001b[0m \u001b[1;36m300\u001b[0m\u001b[1;33m,\u001b[0m \u001b[0mpoppler_path\u001b[0m \u001b[1;33m=\u001b[0m \u001b[1;34mr\"D:\\Marko\\poppler-21.03.0\\Library\\bin\"\u001b[0m\u001b[1;33m)\u001b[0m\u001b[1;33m\u001b[0m\u001b[1;33m\u001b[0m\u001b[0m\n\u001b[0;32m      4\u001b[0m \u001b[1;33m\u001b[0m\u001b[0m\n\u001b[0;32m      5\u001b[0m \u001b[0mi\u001b[0m\u001b[1;33m=\u001b[0m\u001b[1;36m0\u001b[0m\u001b[1;33m\u001b[0m\u001b[1;33m\u001b[0m\u001b[0m\n",
      "\u001b[1;32m~\\AppData\\Local\\Programs\\Python\\Python38\\lib\\site-packages\\docx2pdf\\__init__.py\u001b[0m in \u001b[0;36mconvert\u001b[1;34m(input_path, output_path, keep_active)\u001b[0m\n\u001b[0;32m    104\u001b[0m         \u001b[1;32mreturn\u001b[0m \u001b[0mmacos\u001b[0m\u001b[1;33m(\u001b[0m\u001b[0mpaths\u001b[0m\u001b[1;33m,\u001b[0m \u001b[0mkeep_active\u001b[0m\u001b[1;33m)\u001b[0m\u001b[1;33m\u001b[0m\u001b[1;33m\u001b[0m\u001b[0m\n\u001b[0;32m    105\u001b[0m     \u001b[1;32melif\u001b[0m \u001b[0msys\u001b[0m\u001b[1;33m.\u001b[0m\u001b[0mplatform\u001b[0m \u001b[1;33m==\u001b[0m \u001b[1;34m\"win32\"\u001b[0m\u001b[1;33m:\u001b[0m\u001b[1;33m\u001b[0m\u001b[1;33m\u001b[0m\u001b[0m\n\u001b[1;32m--> 106\u001b[1;33m         \u001b[1;32mreturn\u001b[0m \u001b[0mwindows\u001b[0m\u001b[1;33m(\u001b[0m\u001b[0mpaths\u001b[0m\u001b[1;33m,\u001b[0m \u001b[0mkeep_active\u001b[0m\u001b[1;33m)\u001b[0m\u001b[1;33m\u001b[0m\u001b[1;33m\u001b[0m\u001b[0m\n\u001b[0m\u001b[0;32m    107\u001b[0m     \u001b[1;32melse\u001b[0m\u001b[1;33m:\u001b[0m\u001b[1;33m\u001b[0m\u001b[1;33m\u001b[0m\u001b[0m\n\u001b[0;32m    108\u001b[0m         raise NotImplementedError(\n",
      "\u001b[1;32m~\\AppData\\Local\\Programs\\Python\\Python38\\lib\\site-packages\\docx2pdf\\__init__.py\u001b[0m in \u001b[0;36mwindows\u001b[1;34m(paths, keep_active)\u001b[0m\n\u001b[0;32m     31\u001b[0m         \u001b[0mpdf_filepath\u001b[0m \u001b[1;33m=\u001b[0m \u001b[0mPath\u001b[0m\u001b[1;33m(\u001b[0m\u001b[0mpaths\u001b[0m\u001b[1;33m[\u001b[0m\u001b[1;34m\"output\"\u001b[0m\u001b[1;33m]\u001b[0m\u001b[1;33m)\u001b[0m\u001b[1;33m.\u001b[0m\u001b[0mresolve\u001b[0m\u001b[1;33m(\u001b[0m\u001b[1;33m)\u001b[0m\u001b[1;33m\u001b[0m\u001b[1;33m\u001b[0m\u001b[0m\n\u001b[0;32m     32\u001b[0m         \u001b[0mdoc\u001b[0m \u001b[1;33m=\u001b[0m \u001b[0mword\u001b[0m\u001b[1;33m.\u001b[0m\u001b[0mDocuments\u001b[0m\u001b[1;33m.\u001b[0m\u001b[0mOpen\u001b[0m\u001b[1;33m(\u001b[0m\u001b[0mstr\u001b[0m\u001b[1;33m(\u001b[0m\u001b[0mdocx_filepath\u001b[0m\u001b[1;33m)\u001b[0m\u001b[1;33m)\u001b[0m\u001b[1;33m\u001b[0m\u001b[1;33m\u001b[0m\u001b[0m\n\u001b[1;32m---> 33\u001b[1;33m         \u001b[0mdoc\u001b[0m\u001b[1;33m.\u001b[0m\u001b[0mSaveAs\u001b[0m\u001b[1;33m(\u001b[0m\u001b[0mstr\u001b[0m\u001b[1;33m(\u001b[0m\u001b[0mpdf_filepath\u001b[0m\u001b[1;33m)\u001b[0m\u001b[1;33m,\u001b[0m \u001b[0mFileFormat\u001b[0m\u001b[1;33m=\u001b[0m\u001b[0mwdFormatPDF\u001b[0m\u001b[1;33m)\u001b[0m\u001b[1;33m\u001b[0m\u001b[1;33m\u001b[0m\u001b[0m\n\u001b[0m\u001b[0;32m     34\u001b[0m         \u001b[0mdoc\u001b[0m\u001b[1;33m.\u001b[0m\u001b[0mClose\u001b[0m\u001b[1;33m(\u001b[0m\u001b[1;33m)\u001b[0m\u001b[1;33m\u001b[0m\u001b[1;33m\u001b[0m\u001b[0m\n\u001b[0;32m     35\u001b[0m         \u001b[0mpbar\u001b[0m\u001b[1;33m.\u001b[0m\u001b[0mupdate\u001b[0m\u001b[1;33m(\u001b[0m\u001b[1;36m1\u001b[0m\u001b[1;33m)\u001b[0m\u001b[1;33m\u001b[0m\u001b[1;33m\u001b[0m\u001b[0m\n",
      "\u001b[1;32m~\\AppData\\Local\\Programs\\Python\\Python38\\lib\\site-packages\\win32com\\client\\dynamic.py\u001b[0m in \u001b[0;36mSaveAs\u001b[1;34m(self, FileName, FileFormat, LockComments, Password, AddToRecentFiles, WritePassword, ReadOnlyRecommended, EmbedTrueTypeFonts, SaveNativePictureFormat, SaveFormsData, SaveAsAOCELetter, Encoding, InsertLineBreaks, AllowSubstitutions, LineEnding, AddBiDiMarks)\u001b[0m\n",
      "\u001b[1;31mcom_error\u001b[0m: (-2147352567, 'Exception occurred.', (0, 'Microsoft Word', 'Command failed', 'wdmain11.chm', 36966, -2146824090), None)"
     ]
    }
   ],
   "source": [
    "\n",
    "\n",
    "pages = convert_from_path('scriptalized.pdf', 300, poppler_path = r\"D:\\Marko\\poppler-21.03.0\\Library\\bin\")\n",
    "\n",
    "i=0\n",
    "for page in pages:\n",
    "    i+=1\n",
    "    page.save('tmp/page'+str(i)+'.jpg', 'JPEG')\n",
    "x=0\n",
    "while x < i:\n",
    "\n",
    "    img = Image.open(\"book1.jpg\")\n",
    "    foreground = Image.open(\"tmp/page\"+str(x+1)+\".jpg\")\n",
    "\n",
    "    width, height = foreground.size\n",
    "    bigW, bigH = img.size\n",
    "    coeffs = find_coeffs(\n",
    "            [(96, 226), (1660, 166), (1735, 2449), (141, 2478)],\n",
    "            [(0, 0), (width, 0), (width, height), (0, height)])\n",
    "    foreground.putalpha(255)\n",
    "\n",
    "    datas = foreground.getdata()\n",
    "\n",
    "    newData = []\n",
    "    for item in datas:\n",
    "        if item[0] > 0 and item[1] > 0 and item[2] > 0:\n",
    "            alfavalue = int(255 - (item[0]+item[1]+item[2])/3)\n",
    "            newData.append((item[0], item[1], item[2], alfavalue))\n",
    "        else:\n",
    "            newData.append(item)\n",
    "\n",
    "    foreground.putdata(newData)\n",
    "\n",
    "\n",
    "    foreground = foreground.transform((bigW, bigH), Image.PERSPECTIVE, coeffs, Image.BICUBIC)\n",
    "    img.paste(foreground, (0, 0), foreground.convert('RGBA'))\n",
    "\n",
    "    if x + 1 < i:\n",
    "        foreground = Image.open(\"tmp/page\"+str(x+2)+\".jpg\")\n",
    "        width, height = foreground.size\n",
    "        bigW, bigH = img.size\n",
    "        coeffs = find_coeffs(\n",
    "                [(1672, 145), (3197, 176), (3279, 2376), (1732, 2470)],\n",
    "                [(0, 0), (width, 0), (width, height), (0, height)])\n",
    "        foreground.putalpha(255)\n",
    "\n",
    "        datas = foreground.getdata()\n",
    "\n",
    "        newData = []\n",
    "        for item in datas:\n",
    "            if item[0] > 0 and item[1] > 0 and item[2] > 0:\n",
    "                alfavalue = int(255 - (item[0]+item[1]+item[2])/3)\n",
    "                newData.append((item[0], item[1], item[2], alfavalue))\n",
    "            else:\n",
    "                newData.append(item)\n",
    "\n",
    "        foreground.putdata(newData)\n",
    "\n",
    "\n",
    "        foreground = foreground.transform((bigW, bigH), Image.PERSPECTIVE, coeffs, Image.BICUBIC)\n",
    "        img.paste(foreground, (0, 0), foreground.convert('RGBA'))\n",
    "\n",
    "    img.save(\"output/Marko Pekas \"+str(x+1)+\"-\"+str(x+2)+\".png\", \"PNG\")\n",
    "\n",
    "    x+=2"
   ]
  },
  {
   "cell_type": "code",
   "execution_count": null,
   "metadata": {},
   "outputs": [],
   "source": []
  }
 ]
}